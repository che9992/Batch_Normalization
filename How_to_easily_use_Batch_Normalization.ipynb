{
 "cells": [
  {
   "cell_type": "markdown",
   "metadata": {},
   "source": [
    "# How to easily use Batch Normalization\n",
    "<hr/>\n",
    "\n",
    "\n",
    "#### Preface\n",
    "If you want to use Batch Normalization (BN) to Neural Network (NN)\n",
    "\n",
    "The easiest way is to use   **\" tf.contrib.layers.batch_norm \"**\n",
    "\n",
    "The key in Batch_Normalization is to approach and calculate the mini-batches rather than the average and standard deviation for the whole data, and to average and deviate only within the current mini-batch to normalize.\n",
    "\n",
    "Let's figure out how to use it \n",
    "\n",
    "\n",
    "##### Good things to read\n",
    "[https://arxiv.org/pdf/1502.03167v3.pdf](https://arxiv.org/pdf/1502.03167v3.pdf )\n",
    "\n",
    "[Batch normalization in Neural Networks](https://towardsdatascience.com/batch-normalization-in-neural-networks-1ac91516821c )\n",
    "\n",
    "[Batch Normalization explain as Korean](https://shuuki4.wordpress.com/2016/01/13/batch-normalization-%EC%84%A4%EB%AA%85-%EB%B0%8F-%EA%B5%AC%ED%98%84/)"
   ]
  },
  {
   "cell_type": "markdown",
   "metadata": {},
   "source": [
    "#### Import libraries\n",
    "\n",
    "tensorflow provides a set of tutorial data. if you want to know more info [Visit Here](https://github.com/tensorflow/tensorflow/tree/master/tensorflow/examples/tutorials/mnist/ )"
   ]
  },
  {
   "cell_type": "code",
   "execution_count": 1,
   "metadata": {},
   "outputs": [],
   "source": [
    "import numpy as np\n",
    "import tensorflow as tf\n",
    "from tensorflow.examples.tutorials.mnist import input_data\n",
    "import matplotlib.pyplot as plt\n",
    "import random"
   ]
  },
  {
   "cell_type": "markdown",
   "metadata": {},
   "source": [
    "#### Import Mnist datas"
   ]
  },
  {
   "cell_type": "code",
   "execution_count": 10,
   "metadata": {},
   "outputs": [
    {
     "name": "stdout",
     "output_type": "stream",
     "text": [
      "Extracting MNIST_data/train-images-idx3-ubyte.gz\n",
      "Extracting MNIST_data/train-labels-idx1-ubyte.gz\n",
      "Extracting MNIST_data/t10k-images-idx3-ubyte.gz\n",
      "Extracting MNIST_data/t10k-labels-idx1-ubyte.gz\n"
     ]
    }
   ],
   "source": [
    "mnist = input_data.read_data_sets(\"MNIST_data/\", one_hot=True)"
   ]
  },
  {
   "cell_type": "markdown",
   "metadata": {},
   "source": [
    "### Building functions for NN\n",
    "\n",
    "The most important thing to remember, BN operates differently between training and test process.\n",
    "\n",
    "That's why we have to input *\" phase \"* to let BN know that we going to do training or testing \n",
    "\n",
    "nb_classes means that we classify into ten numbers"
   ]
  },
  {
   "cell_type": "code",
   "execution_count": 11,
   "metadata": {},
   "outputs": [],
   "source": [
    "def TO_FC_BN(X, size, phase, scope):\n",
    "    with tf.variable_scope(scope):\n",
    "        fc1 = tf.contrib.layers.fully_connected(X, size, activation_fn=None, scope='fully_connected', reuse=tf.AUTO_REUSE)\n",
    "        fc2 = tf.contrib.layers.batch_norm(fc1, center = True, scale = True, is_training= phase, scope='bn', reuse=tf.AUTO_REUSE)\n",
    "        return tf.nn.relu(fc2, name='relu')\n",
    "    \n",
    "def FC_2_NC(X, nb_classes, scope):\n",
    "    return tf.contrib.layers.fully_connected(X, nb_classes, activation_fn=None, scope=scope, reuse=tf.AUTO_REUSE)    "
   ]
  },
  {
   "cell_type": "markdown",
   "metadata": {},
   "source": [
    "### Make Model\n",
    "\n",
    "ok. make really simple a NN"
   ]
  },
  {
   "cell_type": "code",
   "execution_count": 12,
   "metadata": {},
   "outputs": [],
   "source": [
    "tf.reset_default_graph() \n",
    "nb_classes = 10\n",
    "\n",
    "phase = tf.placeholder(dtype=tf.bool, name = 'phase')\n",
    "X = tf.placeholder(shape=[None, 784], dtype=tf.float32, name='X')\n",
    "Y = tf.placeholder(shape=[None, nb_classes], dtype=tf.float32, name='Y')\n",
    "\n",
    "FC1 = TO_FC_BN(X, 128, phase=phase, scope='layer1')\n",
    "FC2 = TO_FC_BN(FC1, 256, phase=phase, scope='layer2')\n",
    "logits = FC_2_NC(FC2, nb_classes, scope='logits')\n",
    "\n",
    "\n",
    "with tf.name_scope('accuracy'):\n",
    "    correct_prediction = tf.equal(tf.argmax(logits, 1), tf.argmax(Y, 1))\n",
    "    accuracy = tf.reduce_mean(tf.cast(correct_prediction, tf.float32))\n",
    "\n",
    "with tf.name_scope('cost'):\n",
    "     cost = tf.reduce_mean(tf.nn.softmax_cross_entropy_with_logits_v2(logits = logits, labels = Y))"
   ]
  },
  {
   "cell_type": "markdown",
   "metadata": {},
   "source": [
    "### Let's Training\n",
    "\n",
    "** Important! **\n",
    "\n",
    "When is_training is True the moving_mean and moving_variance need to be updated,\n",
    "\n",
    "by default the update_ops are placed in *tf.Graphkeys.UPDATE_OPS*\n",
    "\n",
    "so they need to be added as a dependency to the train_op\n",
    "\n",
    "it's document of tf.contrib.layers.batch_norm, i know this is difficult to understand. But you do not have to be hard.\n",
    "\n",
    "just use it like this,  that's all !\n",
    "\n",
    "```python \n",
    "\n",
    "update_ops = tf.get_collection(tf.GraphKeys.UPDATE_OPS)\n",
    "with tf.control_dependencies(update_ops):\n",
    "    optimizer = tf.train.GradientDescentOptimizer(1e-2).minimize(cost)\n",
    "        \n",
    "```"
   ]
  },
  {
   "cell_type": "code",
   "execution_count": 13,
   "metadata": {},
   "outputs": [],
   "source": [
    "def train(epochs = 20, batch_size = 200):\n",
    "    update_ops = tf.get_collection(tf.GraphKeys.UPDATE_OPS)\n",
    "    with tf.control_dependencies(update_ops):\n",
    "        optimizer = tf.train.GradientDescentOptimizer(1e-2).minimize(cost)\n",
    "\n",
    "    sess = tf.Session()\n",
    "    sess.run(tf.global_variables_initializer())\n",
    "    \n",
    "    for epoch in range(epochs):\n",
    "        avg_cost = 0\n",
    "        total_batch = int(mnist.train.num_examples / batch_size)\n",
    "\n",
    "        for i in range(total_batch):\n",
    "            batch_xs, batch_ys = mnist.train.next_batch(batch_size)\n",
    "            c, _ = sess.run([cost, optimizer], feed_dict= {'X:0': batch_xs, 'Y:0': batch_ys, 'phase:0': True})\n",
    "            avg_cost += c / total_batch\n",
    "\n",
    "        print(\"Epoch:\", '%04d,' % (epoch + 1), 'cost = ', '{:.9f}'.format(avg_cost))\n",
    "        train_acc = sess.run(accuracy,feed_dict={'X:0': mnist.train.images, 'Y:0': mnist.train.labels, 'phase:0': True})\n",
    "        test_acc = sess.run(accuracy,feed_dict={'X:0': mnist.test.images, 'Y:0': mnist.test.labels, 'phase:0': False})                    \n",
    "        print('Train Accuracy: {:.2f}% '.format(train_acc * 100))\n",
    "        print('Test Accuracy: {:.2f}% \\n'.format(test_acc * 100))\n",
    "        \n",
    "        \n",
    "    return sess"
   ]
  },
  {
   "cell_type": "markdown",
   "metadata": {},
   "source": [
    "### Do Training and get accuracy every epoch \n",
    "Awesome!!! there are only two of fully connected layers, even i have not used dropout!\n",
    "\n",
    "and also, i have used basic Gradient descent for training ! \n",
    "\n",
    "But I have to be surprised by the speed and accuracy, isn't it ? :)"
   ]
  },
  {
   "cell_type": "code",
   "execution_count": 14,
   "metadata": {},
   "outputs": [
    {
     "name": "stdout",
     "output_type": "stream",
     "text": [
      "Epoch: 0001, cost =  0.794697627\n",
      "Train Accuracy: 88.81% \n",
      "Test Accuracy: 80.61% \n",
      "\n",
      "Epoch: 0002, cost =  0.369720259\n",
      "Train Accuracy: 91.65% \n",
      "Test Accuracy: 89.67% \n",
      "\n",
      "Epoch: 0003, cost =  0.290335259\n",
      "Train Accuracy: 92.97% \n",
      "Test Accuracy: 92.21% \n",
      "\n",
      "Epoch: 0004, cost =  0.247273118\n",
      "Train Accuracy: 93.83% \n",
      "Test Accuracy: 93.19% \n",
      "\n",
      "Epoch: 0005, cost =  0.220348850\n",
      "Train Accuracy: 94.43% \n",
      "Test Accuracy: 93.96% \n",
      "\n",
      "Epoch: 0006, cost =  0.199742093\n",
      "Train Accuracy: 94.97% \n",
      "Test Accuracy: 94.38% \n",
      "\n",
      "Epoch: 0007, cost =  0.184440559\n",
      "Train Accuracy: 95.38% \n",
      "Test Accuracy: 94.75% \n",
      "\n",
      "Epoch: 0008, cost =  0.171512970\n",
      "Train Accuracy: 95.69% \n",
      "Test Accuracy: 95.06% \n",
      "\n",
      "Epoch: 0009, cost =  0.160213211\n",
      "Train Accuracy: 95.97% \n",
      "Test Accuracy: 95.29% \n",
      "\n",
      "Epoch: 0010, cost =  0.150576325\n",
      "Train Accuracy: 96.20% \n",
      "Test Accuracy: 95.44% \n",
      "\n",
      "Epoch: 0011, cost =  0.143458702\n",
      "Train Accuracy: 96.41% \n",
      "Test Accuracy: 95.66% \n",
      "\n",
      "Epoch: 0012, cost =  0.136412503\n",
      "Train Accuracy: 96.60% \n",
      "Test Accuracy: 95.93% \n",
      "\n",
      "Epoch: 0013, cost =  0.128888754\n",
      "Train Accuracy: 96.75% \n",
      "Test Accuracy: 96.01% \n",
      "\n",
      "Epoch: 0014, cost =  0.123460098\n",
      "Train Accuracy: 96.91% \n",
      "Test Accuracy: 96.12% \n",
      "\n",
      "Epoch: 0015, cost =  0.119138596\n",
      "Train Accuracy: 97.09% \n",
      "Test Accuracy: 96.31% \n",
      "\n",
      "Epoch: 0016, cost =  0.114227432\n",
      "Train Accuracy: 97.20% \n",
      "Test Accuracy: 96.35% \n",
      "\n",
      "Epoch: 0017, cost =  0.109043343\n",
      "Train Accuracy: 97.33% \n",
      "Test Accuracy: 96.43% \n",
      "\n",
      "Epoch: 0018, cost =  0.105120628\n",
      "Train Accuracy: 97.47% \n",
      "Test Accuracy: 96.51% \n",
      "\n",
      "Epoch: 0019, cost =  0.100932423\n",
      "Train Accuracy: 97.56% \n",
      "Test Accuracy: 96.53% \n",
      "\n",
      "Epoch: 0020, cost =  0.096888712\n",
      "Train Accuracy: 97.70% \n",
      "Test Accuracy: 96.60% \n",
      "\n"
     ]
    }
   ],
   "source": [
    "sess = train()"
   ]
  },
  {
   "cell_type": "markdown",
   "metadata": {},
   "source": [
    "### You may want to see a test result as image"
   ]
  },
  {
   "cell_type": "code",
   "execution_count": 15,
   "metadata": {},
   "outputs": [
    {
     "data": {
      "image/png": "[encoded data removed]",
      "text/plain": [
       "<Figure size 432x288 with 9 Axes>"
      ]
     },
     "metadata": {},
     "output_type": "display_data"
    }
   ],
   "source": [
    "for i in range(9):\n",
    "\n",
    "    r = random.randint(0, mnist.test.num_examples - 1)\n",
    "    plt.subplot(3,3,i+1)\n",
    "\n",
    "    plt.title('Label: {}, Pre: {}'.format(sess.run(tf.argmax(mnist.test.labels[r:r+1], 1)),\n",
    "                                                  sess.run(tf.argmax(logits, 1), \n",
    "                                                           feed_dict={'X:0': mnist.test.images[r:r+1],'phase:0': False})))\n",
    "    \n",
    "    plt.imshow(mnist.test.images[r:r+1].reshape(28, 28), cmap = 'Greys')\n",
    "    plt.tight_layout()"
   ]
  },
  {
   "cell_type": "markdown",
   "metadata": {},
   "source": [
    "### OK, Let's see what our model did not expect as image"
   ]
  },
  {
   "cell_type": "code",
   "execution_count": 16,
   "metadata": {},
   "outputs": [],
   "source": [
    "def show_incorrect():\n",
    "    la = sess.run(tf.argmax(mnist.test.labels,1))\n",
    "    pre = sess.run(tf.argmax(logits, 1),feed_dict={'X:0': mnist.test.images,'phase:0': False})\n",
    "    \n",
    "\n",
    "    incorrect = la == pre\n",
    "    incorrect = np.array(np.where(incorrect == False)).reshape(-1)\n",
    "    for i in range(9):\n",
    "        r = np.random.choice(incorrect)\n",
    "        plt.subplot(3,3,i+1)\n",
    "        plt.title('Label: {}, Pre: {}'.format(la[r:r+1],pre[r:r+1]))\n",
    "        plt.imshow(mnist.test.images[r].reshape(28, 28), cmap = 'Greys')\n",
    "        plt.tight_layout()"
   ]
  },
  {
   "cell_type": "code",
   "execution_count": 17,
   "metadata": {},
   "outputs": [
    {
     "data": {
      "image/png": "[encoded data removed]",
      "text/plain": [
       "<Figure size 432x288 with 9 Axes>"
      ]
     },
     "metadata": {},
     "output_type": "display_data"
    }
   ],
   "source": [
    "show_incorrect()"
   ]
  },
  {
   "cell_type": "code",
   "execution_count": null,
   "metadata": {},
   "outputs": [],
   "source": []
  }
 ],
 "metadata": {
  "kernelspec": {
   "display_name": "Python 3",
   "language": "python",
   "name": "python3"
  },
  "language_info": {
   "codemirror_mode": {
    "name": "ipython",
    "version": 3
   },
   "file_extension": ".py",
   "mimetype": "text/x-python",
   "name": "python",
   "nbconvert_exporter": "python",
   "pygments_lexer": "ipython3",
   "version": "3.6.5"
  }
 },
 "nbformat": 4,
 "nbformat_minor": 2
}
